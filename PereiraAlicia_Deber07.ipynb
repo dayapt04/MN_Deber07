{
 "cells": [
  {
   "cell_type": "raw",
   "metadata": {
    "vscode": {
     "languageId": "raw"
    }
   },
   "source": [
    "---\n",
    "title: \"Métodos Numéricos - DEBER 07 -  Splines Cúbicos\"\n",
    "author: \"Alicia Pereira\"\n",
    "lang: es\n",
    "format:\n",
    "  pdf:\n",
    "    code-overflow: wrap\n",
    "    number-sections: true\n",
    "    paginate: true\n",
    "    toc: true\n",
    "    links-color: blue\n",
    "    toc-title: \"Tabla de Contenidos\"  \n",
    "    tables: true\n",
    "    table-width: full\n",
    "    images-centered: true\n",
    "    code-block-theme: \"monokai\"\n",
    "execute:\n",
    "  echo: true\n",
    "  error: false\n",
    "  warning: false\n",
    "jupyter: python3\n",
    "---"
   ]
  },
  {
   "cell_type": "markdown",
   "metadata": {},
   "source": [
    "## Conjunto de Ejercicios"
   ]
  },
  {
   "cell_type": "markdown",
   "metadata": {},
   "source": [
    "### 3. Dirijase al pseudocódigo del spline cúbico con frontera natural provisto en clase, en base a ese pseudocódigo complete Ia siguiente función:"
   ]
  },
  {
   "cell_type": "code",
   "execution_count": 7,
   "metadata": {},
   "outputs": [],
   "source": [
    "import sympy as sym\n",
    "from IPython.display import display\n",
    "\n",
    "\n",
    "# ###################################################################\n",
    "def cubic_spline(xs: list[float], ys: list[float]) -> list[sym.Symbol]:\n",
    "    \"\"\"\n",
    "    Cubic spline interpolation ``S``. Every two points are interpolated by a cubic polynomial\n",
    "    ``S_j`` of the form ``S_j(x) = a_j + b_j(x - x_j) + c_j(x - x_j)^2 + d_j(x - x_j)^3.``\n",
    "\n",
    "    xs must be different  but not necessarily ordered nor equally spaced.\n",
    "\n",
    "    ## Parameters\n",
    "    - xs, ys: points to be interpolated\n",
    "\n",
    "    ## Return\n",
    "    - List of symbolic expressions for the cubic spline interpolation.\n",
    "    \"\"\"\n",
    "\n",
    "    points = sorted(zip(xs, ys), key=lambda x: x[0])  # sort points by x\n",
    "\n",
    "    xs = [x for x, _ in points]\n",
    "    ys = [y for _, y in points]\n",
    "\n",
    "    n = len(points) - 1  # number of splines\n",
    "\n",
    "    h = [xs[i + 1] - xs[i] for i in range(n)]  # distances between  contiguous xs\n",
    "\n",
    "    # alpha = # completar\n",
    "    alpha = [0] * n\n",
    "\n",
    "    for i in range(1, n):\n",
    "        alpha[i] = 3 / h[i] * (ys[i + 1] - ys[i]) - 3 / h[i - 1] * (ys[i] - ys[i - 1])\n",
    "\n",
    "    l = [1]\n",
    "    u = [0]\n",
    "    z = [0]\n",
    "\n",
    "\n",
    "    for i in range(1, n):\n",
    "        l += [2 * (xs[i + 1] - xs[i - 1]) - h[i - 1] * u[i - 1]]\n",
    "        u += [h[i] / l[i]]\n",
    "        # Completar z\n",
    "        z += [(alpha[i] - h[i - 1] * z[i - 1]) / l[i]]\n",
    "\n",
    "    l.append(1)\n",
    "    z.append(0)\n",
    "    c = [0] * (n + 1)\n",
    "\n",
    "    x = sym.Symbol(\"x\")\n",
    "    splines = []\n",
    "    for j in range(n - 1, -1, -1):\n",
    "        c[j] = z[j] - u[j] * c[j + 1]\n",
    "        b = (ys[j + 1] - ys[j]) / h[j] - h[j] * (c[j + 1] + 2 * c[j]) / 3\n",
    "        d = (c[j + 1] - c[j]) / (3 * h[j])\n",
    "        a  = ys[j]\n",
    "        print(j, a, b, c[j], d)\n",
    "        #Completar S\n",
    "        S = a + b * (x - xs[j]) + c[j] * (x - xs[j])**2 + d * (x - xs[j])**3\n",
    "\n",
    "        splines.append(S)\n",
    "    splines.reverse()\n",
    "    return splines"
   ]
  },
  {
   "cell_type": "markdown",
   "metadata": {},
   "source": [
    "_Análisis de las líneas completadas en el código_\n",
    "\n",
    " `alpha = [0] * n`\n",
    "- **`alpha`**: Una lista de tamaño \\( n \\) (el número de intervalos) inicializada con ceros.\n",
    "- La expresión `[0] * n` crea una lista de \\( n \\) elementos, todos inicializados a \\( 0 \\).\n",
    "- `alpha` almacena los términos necesarios para construir el sistema tridiagonal de ecuaciones en el cálculo de los splines cúbicos.\n",
    "- Cada valor de \\( \\alpha[i] \\) se calcula usando:\n",
    "  $$\n",
    "  \\alpha[i] = \\frac{3}{h[i]} (y_{i+1} - y_i) - \\frac{3}{h[i-1]} (y_i - y_{i-1})\n",
    "  $$\n",
    "- Estos valores representan cambios relativos en las derivadas entre puntos adyacentes."
   ]
  },
  {
   "cell_type": "markdown",
   "metadata": {},
   "source": [
    "`z += [(alpha[i] - h[i - 1] * z[i - 1]) / l[i]]`\n",
    "- **`z`**: Lista que almacena soluciones intermedias del sistema tridiagonal.\n",
    "- Esta línea añade un nuevo valor calculado a la lista `z`.\n",
    "- Calcula los valores intermedios necesarios para determinar las derivadas segundas (\\( c \\)) en el spline cúbico.\n",
    "- Se deriva de la resolución del sistema tridiagonal que surge en el cálculo de los splines cúbicos.\n",
    "\n",
    "- Cada valor de \\( z[i] \\) se calcula usando:\n",
    "  $$\n",
    "  z[i] = \\frac{\\alpha[i] - h[i-1] \\cdot z[i-1]}{l[i]}\n",
    "  $$\n",
    "- Donde:\n",
    "  - \\( \\alpha[i] \\): Cambios relativos calculados previamente.\n",
    "  - \\( h[i-1] \\): Distancia entre puntos consecutivos.\n",
    "  - \\( z[i-1] \\): Valor calculado en la iteración previa.\n",
    "  - \\( l[i] \\): Diagonal principal del sistema tridiagonal.\n",
    "\n",
    "\n",
    "`a = ys[j]`\n",
    "- **`a`**: Constante \\( a_j \\) en el spline cúbico.\n",
    "- En cada intervalo, \\( a_j \\) es simplemente el valor \\( y_j \\) correspondiente al punto inicial del intervalo.\n",
    "\n",
    "- Representa el término constante del spline cúbico \\( S_j(x) \\), asegurando que pase exactamente por el punto \\( (x_j, y_j) \\).\n",
    "- Este valor se utiliza directamente en la construcción de la fórmula del spline.\n",
    "\n",
    " `S = a + b * (x - xs[j]) + c[j] * (x - xs[j])**2 + d * (x - xs[j])**3`\n",
    "- **`S`**: Ecuación simbólica que representa el spline cúbico en un intervalo.\n",
    "- Se calcula como:\n",
    "  $$\n",
    "  S_j(x) = a_j + b_j(x - x_j) + c_j(x - x_j)^2 + d_j(x - x_j)^3\n",
    "  $$\n",
    "- Donde:\n",
    "  - \\( a_j, b_j, c_j, d_j \\) son los coeficientes calculados para ese intervalo.\n",
    "  - \\( x \\) es el valor simbólico donde se evalúa la interpolación.\n",
    "- Define el spline cúbico \\( S_j(x) \\) en cada intervalo \\([x_j, x_{j+1}]\\).\n",
    "- Este spline garantiza suavidad (continuidad en valores, derivadas primeras y segundas) entre los puntos.\n"
   ]
  },
  {
   "cell_type": "markdown",
   "metadata": {},
   "source": [
    "### 4. Usando la función anterior, encuentre el spline cúbico para:\n",
    "$$\n",
    "xs = [0,1,2,3]\n",
    "$$\n",
    "$$\n",
    "ys = [-1,1,5,2]\n",
    "$$\n"
   ]
  },
  {
   "cell_type": "code",
   "execution_count": 9,
   "metadata": {},
   "outputs": [
    {
     "name": "stdout",
     "output_type": "stream",
     "text": [
      "2 5 1.0 -6.0 2.0\n",
      "1 1 4.0 3.0 -3.0\n",
      "0 -1 1.0 0.0 1.0\n"
     ]
    },
    {
     "data": {
      "text/plain": [
       "[1.0*x**3 + 1.0*x - 1,\n",
       " 4.0*x - 3.0*(x - 1)**3 + 3.0*(x - 1)**2 - 3.0,\n",
       " 1.0*x + 2.0*(x - 2)**3 - 6.0*(x - 2)**2 + 3.0]"
      ]
     },
     "execution_count": 9,
     "metadata": {},
     "output_type": "execute_result"
    }
   ],
   "source": [
    "xs = [0,1,2,3]\n",
    "ys = [-1,1,5,2]\n",
    "\n",
    "cubic_spline(xs,ys)"
   ]
  },
  {
   "cell_type": "markdown",
   "metadata": {},
   "source": [
    "**Spline cúbico para el intervalo [0, 1]:**\n",
    "$$\n",
    "S_0(x) = 1.0 \\cdot x^3 + 1.0 \\cdot x - 1\n",
    "$$\n",
    "\n",
    "**Spline cúbico para el intervalo [1, 2]:**\n",
    "$$\n",
    "S_1(x) = - 3.0 \\cdot (x - 1)^3 + 3.0 \\cdot (x - 1)^2 + 4.0 \\cdot x - 3.0\n",
    "$$\n",
    "\n",
    "**Spline cúbico para el intervalo [2, 3]:**\n",
    "$$\n",
    "S_2(x) = 2.0 \\cdot (x - 2)^3 - 6.0 \\cdot (x - 2)^2 + 1.0 \\cdot x + 3.0\n",
    "$$"
   ]
  },
  {
   "cell_type": "markdown",
   "metadata": {},
   "source": [
    "**GitHub:** git@github.com: dayapt04\n",
    "\n",
    "\n",
    "\n",
    "[GitHub Métodos Númericos - Repositorio](https://github.com/dayapt04/MN_Deber07)"
   ]
  }
 ],
 "metadata": {
  "kernelspec": {
   "display_name": "Python 3 (ipykernel)",
   "language": "python",
   "name": "python3"
  },
  "language_info": {
   "codemirror_mode": {
    "name": "ipython",
    "version": 3
   },
   "file_extension": ".py",
   "mimetype": "text/x-python",
   "name": "python",
   "nbconvert_exporter": "python",
   "pygments_lexer": "ipython3",
   "version": "3.12.4"
  }
 },
 "nbformat": 4,
 "nbformat_minor": 2
}
